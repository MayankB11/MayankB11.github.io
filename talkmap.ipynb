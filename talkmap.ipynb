{
 "cells": [
  {
   "cell_type": "markdown",
   "metadata": {},
   "source": [
    "# Leaflet cluster map of talk locations\n",
    "\n",
    "Run this from the _talks/ directory, which contains .md files of all your talks. This scrapes the location YAML field from each .md file, geolocates it with geopy/Nominatim, and uses the getorg library to output data, HTML, and Javascript for a standalone cluster map."
   ]
  },
  {
   "cell_type": "code",
   "execution_count": 11,
   "metadata": {},
   "outputs": [
    {
     "name": "stdout",
     "output_type": "stream",
     "text": [
      "Requirement already up-to-date: getorg in /home/mayank/.local/lib/python3.8/site-packages (0.3.1)\n",
      "Requirement already satisfied, skipping upgrade: retrying in /home/mayank/.local/lib/python3.8/site-packages (from getorg) (1.3.3)\n",
      "Requirement already satisfied, skipping upgrade: geopy in /home/mayank/.local/lib/python3.8/site-packages (from getorg) (2.0.0)\n",
      "Requirement already satisfied, skipping upgrade: pygithub in /home/mayank/.local/lib/python3.8/site-packages (from getorg) (1.53)\n",
      "Requirement already satisfied, skipping upgrade: six>=1.7.0 in /usr/lib/python3/dist-packages (from retrying->getorg) (1.14.0)\n",
      "Requirement already satisfied, skipping upgrade: geographiclib<2,>=1.49 in /home/mayank/.local/lib/python3.8/site-packages (from geopy->getorg) (1.50)\n",
      "Requirement already satisfied, skipping upgrade: requests>=2.14.0 in /usr/lib/python3/dist-packages (from pygithub->getorg) (2.22.0)\n",
      "Requirement already satisfied, skipping upgrade: deprecated in /home/mayank/.local/lib/python3.8/site-packages (from pygithub->getorg) (1.2.10)\n",
      "Requirement already satisfied, skipping upgrade: pyjwt in /usr/lib/python3/dist-packages (from pygithub->getorg) (1.7.1)\n",
      "Requirement already satisfied, skipping upgrade: wrapt<2,>=1.10 in /home/mayank/.local/lib/python3.8/site-packages (from deprecated->pygithub->getorg) (1.12.1)\n"
     ]
    }
   ],
   "source": [
    "!pip3 install getorg --upgrade\n",
    "import ipywidgets\n",
    "import glob\n",
    "import getorg\n",
    "# from geopy import Nominatim(user-agent=\"my-application\")\n",
    "from geopy import Nominatim"
   ]
  },
  {
   "cell_type": "code",
   "execution_count": 58,
   "metadata": {},
   "outputs": [
    {
     "data": {
      "text/plain": [
       "['./places/locations/bangalore.loc',\n",
       " './places/locations/cherrapunjee.loc',\n",
       " './places/locations/dawki.loc',\n",
       " './places/locations/deoghar.loc',\n",
       " './places/locations/gangtok.loc',\n",
       " './places/locations/kasol.loc',\n",
       " './places/locations/kharagpur.loc',\n",
       " './places/locations/kheerganga.loc',\n",
       " './places/locations/manali.loc',\n",
       " './places/locations/mumbai.loc',\n",
       " './places/locations/nagoya.loc',\n",
       " './places/locations/new_delhi.loc',\n",
       " './places/locations/osaka.loc',\n",
       " './places/locations/pelling.loc',\n",
       " './places/locations/shillong.loc',\n",
       " './places/locations/tokyo.loc']"
      ]
     },
     "execution_count": 58,
     "metadata": {},
     "output_type": "execute_result"
    }
   ],
   "source": [
    "g = glob.glob(\"./places/locations/*.loc\")\n",
    "g"
   ]
  },
  {
   "cell_type": "code",
   "execution_count": 38,
   "metadata": {},
   "outputs": [],
   "source": [
    "geocoder = Nominatim(user_agent=\"ipywidgets\")\n",
    "# geocoder = Nominatim()\n",
    "location_dict = {}\n",
    "location = \"\"\n",
    "permalink = \"\"\n",
    "title = \"\""
   ]
  },
  {
   "cell_type": "code",
   "execution_count": 59,
   "metadata": {},
   "outputs": [
    {
     "name": "stdout",
     "output_type": "stream",
     "text": [
      "Bangalore, Karnataka, India \n",
      " Bengaluru, Bangalore North, Bangalore Urban, Karnataka, India\n",
      "Cherrapunjee, Meghalaya, India \n",
      " Cherrapunjee Holiday Resort, Double decker root bridge, Nongriat, Mawmluh, Shella Bholaganj, East Khasi Hills, Meghalaya, 793015, India\n",
      "Dawki, Meghalaya, India \n",
      " Dawki, Amlarem, West Jaintia Hills, Meghalaya, India\n",
      "Deoghar, Jharkhand, India \n",
      " Deoghar, Jharkhand, 814112, India\n",
      "Gangtok, Sikkim, India \n",
      " Gangtok, East Sikkim District, Sikkim, 737101, India\n",
      "Kasol, Himachal Pradesh, India \n",
      " Kasol, Kullu, Himachal Pradesh, 175105, India\n",
      "Kharagpur, West Bengal, India \n",
      " Kharagpur, Kharagpur-I, Paschim Medinipur, West Bengal, 721301, India\n",
      "Kheerganga, Himachal Pradesh, India \n",
      " Kalga to Kheerganga, Nakthan, Tosh, Kullu, Himachal Pradesh, India\n",
      "Manali, Himachal Pradesh, India \n",
      " Manali, Kullu, Himachal Pradesh, India\n",
      "Mumbai, Maharashtra, India \n",
      " Mumbai, Mumbai City, Maharashtra, India\n",
      "Nagoya, Japan \n",
      " 名古屋市, 愛知県, 日本 (Japan)\n",
      "New Delhi, India \n",
      " New Delhi, Delhi, India\n",
      "Osaka, Japan \n",
      " 大阪府, 日本 (Japan)\n",
      "Pelling, Sikkim, India \n",
      " Pelling, Gyalshing, West Sikkim District, Sikkim, 737113, India\n",
      "Shillong, Meghalaya, India \n",
      " Shillong, Police Bazar Road, Mawkhar, Shillong, Mylliem, East Khasi Hills, Meghalaya, 793001, India\n",
      "Tokyo, Japan \n",
      " 東京都, 日本 (Japan)\n"
     ]
    }
   ],
   "source": [
    "for file in g:\n",
    "    with open(file, 'r') as f:\n",
    "        lines = f.read()\n",
    "        if lines.find('location: \"') > 1:\n",
    "            loc_start = lines.find('location: \"') + 11\n",
    "            lines_trim = lines[loc_start:]\n",
    "            loc_end = lines_trim.find('\"')\n",
    "            location = lines_trim[:loc_end]\n",
    "        else:\n",
    "            print(\"Not found in File: \",file,\"\\n\")\n",
    "           \n",
    "        location_dict[location] = geocoder.geocode(location)\n",
    "        print(location, \"\\n\", location_dict[location])\n"
   ]
  },
  {
   "cell_type": "code",
   "execution_count": 60,
   "metadata": {},
   "outputs": [
    {
     "data": {
      "text/plain": [
       "'Written map to ./places/'"
      ]
     },
     "execution_count": 60,
     "metadata": {},
     "output_type": "execute_result"
    }
   ],
   "source": [
    "m = getorg.orgmap.create_map_obj()\n",
    "getorg.orgmap.output_html_cluster_map(location_dict, folder_name=\"./places\", hashed_usernames=False)"
   ]
  },
  {
   "cell_type": "code",
   "execution_count": null,
   "metadata": {
    "collapsed": true
   },
   "outputs": [],
   "source": []
  }
 ],
 "metadata": {
  "anaconda-cloud": {},
  "kernelspec": {
   "display_name": "Python 3",
   "language": "python",
   "name": "python3"
  },
  "language_info": {
   "codemirror_mode": {
    "name": "ipython",
    "version": 3
   },
   "file_extension": ".py",
   "mimetype": "text/x-python",
   "name": "python",
   "nbconvert_exporter": "python",
   "pygments_lexer": "ipython3",
   "version": "3.8.2"
  }
 },
 "nbformat": 4,
 "nbformat_minor": 1
}
